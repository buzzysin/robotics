{
 "cells": [
  {
   "attachments": {},
   "cell_type": "markdown",
   "metadata": {},
   "source": [
    "# Exercise 1: Pololu 3Pi+\n",
    "\n",
    "## 1.1. What justification would you use to support the provided sense of robot direction?\n",
    "\n",
    "### Answer\n",
    "\n",
    "#### Task requirements/behaviours/physical configuration/actuation \n",
    "\n",
    "In order to perform line following, line detection is required. The sensors required for this task are oriented on one side of the robot. Therefore, considering the robot should be moving in the direction of the line, it is reasonable to prioritise obtaining data from the line sensors by aligning the robot in the direction of the intended movement.\n",
    "\n",
    "#### Perception/Decision Making\n",
    "\n",
    "The robot's only inputs are the line sensors. The robot's only outputs are the motors. The robot's only decision is to move in the direction of the line. Therefore, the robot's only decision is to move in the direction of the line.\n",
    "\n",
    "## 1.2 The robot has a ball-caster.\n",
    "\n",
    "- Why might this be included in the design?\n",
    "- Why would the ball caster be more suited at the rear of the robot?\n",
    "- What is the difference between a ball caster and a caster wheel?\n",
    "\n",
    "### Answer\n",
    "\n",
    "> </End of Exercise 1>\n",
    "\n",
    "---"
   ]
  },
  {
   "attachments": {},
   "cell_type": "markdown",
   "metadata": {},
   "source": [
    "# Exercise 2: Uploading to the 3Pi+\n",
    "\n",
    "## 2.1. What is non-volatile memory?\n",
    "\n",
    "### Answer\n",
    "\n",
    "Non-volatile memory is memory that retains its contents even when the power is turned off. This is in contrast to volatile memory, which loses its contents when the power is turned off. An example of this is ROM (non-volatile) and RAM (volatile).\n",
    "\n",
    "Specifically in C++, the `volatile` keyword prevents certain optimisations from being performed on the variable. This is because the variable may be modified by factors outside the program (such as the operating system). That means, wherever the variable is used, the compiler must assume that it may have been modified by an external factor.\n",
    "\n",
    "## 2.2. What is the difference between the 3Pi+ and the 3Pi?\n",
    "\n",
    "### Answer\n",
    "\n",
    "The 3Pi+ has a ball caster, a buzzer, and a microSD card slot. The 3Pi does not have these features.\n",
    "\n",
    "## 2.ai References\n",
    "\n",
    "- [Arduino Reference Page](https://www.arduino.cc/reference/en/)\n",
    "\n",
    "> </End of Exercise 2>\n",
    "\n",
    "---"
   ]
  }
 ],
 "metadata": {
  "language_info": {
   "name": "python"
  },
  "orig_nbformat": 4
 },
 "nbformat": 4,
 "nbformat_minor": 2
}
